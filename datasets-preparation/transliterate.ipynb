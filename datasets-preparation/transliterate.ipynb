{
 "cells": [
  {
   "cell_type": "code",
   "execution_count": 10,
   "metadata": {},
   "outputs": [],
   "source": [
    "from indictrans import Transliterator\n",
    "from tqdm import tqdm\n",
    "import time\n",
    "import re\n",
    "import path\n",
    "import os"
   ]
  },
  {
   "cell_type": "code",
   "execution_count": 2,
   "metadata": {},
   "outputs": [],
   "source": [
    "def is_english(s: str) -> bool:\n",
    "    if len(re.findall(u'[\\u0900-\\u097F]', s)) <= 1000:\n",
    "        return True\n",
    "    return False"
   ]
  },
  {
   "cell_type": "code",
   "execution_count": 11,
   "metadata": {},
   "outputs": [],
   "source": [
    "trn = Transliterator(source='eng', target='tam', build_lookup=True)"
   ]
  },
  {
   "cell_type": "code",
   "execution_count": 12,
   "metadata": {},
   "outputs": [],
   "source": [
    "hin = \"Trailer late ah parthavanga like podunga\""
   ]
  },
  {
   "cell_type": "code",
   "execution_count": 13,
   "metadata": {},
   "outputs": [
    {
     "name": "stdout",
     "output_type": "stream",
     "text": [
      "ட்ரைலேர் லேத்த் அ பார்தாவங்கா லைக் போதுங்கா\n"
     ]
    }
   ],
   "source": [
    "print(trn.transform(hin))"
   ]
  },
  {
   "cell_type": "code",
   "execution_count": 6,
   "metadata": {},
   "outputs": [
    {
     "name": "stdout",
     "output_type": "stream",
     "text": [
      "code-mixed-prep.ipynb  train_ta       transliterate.ipynb  valid_ta\r\n",
      "train_en\t       train_uncased  valid_en\t\t   valid_uncased\r\n"
     ]
    }
   ],
   "source": [
    "!ls"
   ]
  },
  {
   "cell_type": "code",
   "execution_count": 7,
   "metadata": {},
   "outputs": [
    {
     "name": "stdout",
     "output_type": "stream",
     "text": [
      "357\n"
     ]
    }
   ],
   "source": [
    "src_folder = 'train_ta'\n",
    "all_files = os.listdir(src_folder)\n",
    "print(len(all_files))"
   ]
  },
  {
   "cell_type": "code",
   "execution_count": 8,
   "metadata": {},
   "outputs": [
    {
     "name": "stdout",
     "output_type": "stream",
     "text": [
      "1\n"
     ]
    }
   ],
   "source": [
    "dest_folder = 'train_en'\n",
    "done_files = os.listdir(dest_folder)\n",
    "print(len(done_files))"
   ]
  },
  {
   "cell_type": "code",
   "execution_count": 9,
   "metadata": {},
   "outputs": [
    {
     "name": "stderr",
     "output_type": "stream",
     "text": [
      "100%|██████████| 357/357 [55:08<00:00,  9.27s/it] \n"
     ]
    }
   ],
   "source": [
    "for filename in tqdm(all_files):\n",
    "    if filename in done_files:\n",
    "        continue\n",
    "    url = f'{src_folder}/{filename}'\n",
    "    in_english = False\n",
    "    with open(f'{url}', 'r') as f:\n",
    "        alltext = f.read()\n",
    "    alltext = trn.transform(alltext)\n",
    "    in_english = is_english(alltext)\n",
    "    if in_english:\n",
    "        with open(f'{dest_folder}/{filename}', 'w') as f:\n",
    "            f.write(alltext)\n",
    "    if not in_english:\n",
    "        print(f'Failed for {url}')"
   ]
  },
  {
   "cell_type": "code",
   "execution_count": 14,
   "metadata": {},
   "outputs": [
    {
     "name": "stdout",
     "output_type": "stream",
     "text": [
      "357\n"
     ]
    }
   ],
   "source": [
    "print(len(os.listdir(dest_folder)))"
   ]
  },
  {
   "cell_type": "code",
   "execution_count": null,
   "metadata": {},
   "outputs": [],
   "source": []
  }
 ],
 "metadata": {
  "kernelspec": {
   "display_name": "Python 3",
   "language": "python",
   "name": "python3"
  },
  "language_info": {
   "codemirror_mode": {
    "name": "ipython",
    "version": 3
   },
   "file_extension": ".py",
   "mimetype": "text/x-python",
   "name": "python",
   "nbconvert_exporter": "python",
   "pygments_lexer": "ipython3",
   "version": "3.7.3"
  }
 },
 "nbformat": 4,
 "nbformat_minor": 2
}
