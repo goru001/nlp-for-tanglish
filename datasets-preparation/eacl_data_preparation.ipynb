{
 "cells": [
  {
   "cell_type": "code",
   "execution_count": 105,
   "metadata": {},
   "outputs": [],
   "source": [
    "import pandas as pd\n",
    "import spacy\n",
    "from collections import Counter\n",
    "import matplotlib.pyplot as plt\n",
    "from statistics import mean, median, mode"
   ]
  },
  {
   "cell_type": "markdown",
   "metadata": {},
   "source": [
    "## Offensive Language Identification"
   ]
  },
  {
   "cell_type": "markdown",
   "metadata": {},
   "source": [
    "### Data Loading"
   ]
  },
  {
   "cell_type": "code",
   "execution_count": 115,
   "metadata": {},
   "outputs": [],
   "source": [
    "BASE_DIR = \"/home/data/eacl/ta/original_dataset\""
   ]
  },
  {
   "cell_type": "code",
   "execution_count": 116,
   "metadata": {},
   "outputs": [],
   "source": [
    "train = pd.read_csv(f\"{BASE_DIR}/tamil_offensive_full_train.csv\", sep=\"\\t\", names=['sentence', 'label', 'extra'])\n",
    "\n",
    "train.drop(columns=['extra'], inplace=True)"
   ]
  },
  {
   "cell_type": "code",
   "execution_count": 117,
   "metadata": {},
   "outputs": [
    {
     "data": {
      "text/html": [
       "<div>\n",
       "<style scoped>\n",
       "    .dataframe tbody tr th:only-of-type {\n",
       "        vertical-align: middle;\n",
       "    }\n",
       "\n",
       "    .dataframe tbody tr th {\n",
       "        vertical-align: top;\n",
       "    }\n",
       "\n",
       "    .dataframe thead th {\n",
       "        text-align: right;\n",
       "    }\n",
       "</style>\n",
       "<table border=\"1\" class=\"dataframe\">\n",
       "  <thead>\n",
       "    <tr style=\"text-align: right;\">\n",
       "      <th></th>\n",
       "      <th>sentence</th>\n",
       "      <th>label</th>\n",
       "    </tr>\n",
       "  </thead>\n",
       "  <tbody>\n",
       "    <tr>\n",
       "      <th>0</th>\n",
       "      <td>movie vara level la Erika poguthu</td>\n",
       "      <td>Not_offensive</td>\n",
       "    </tr>\n",
       "    <tr>\n",
       "      <th>1</th>\n",
       "      <td>I love Ajith Kumar Vivegam movie inki mjy bht ...</td>\n",
       "      <td>not-Tamil</td>\n",
       "    </tr>\n",
       "    <tr>\n",
       "      <th>2</th>\n",
       "      <td>Padam nalla comedy padama irukum polaye..</td>\n",
       "      <td>Not_offensive</td>\n",
       "    </tr>\n",
       "    <tr>\n",
       "      <th>3</th>\n",
       "      <td>karthick subburaj anne .... intha padam vetri ...</td>\n",
       "      <td>Not_offensive</td>\n",
       "    </tr>\n",
       "    <tr>\n",
       "      <th>4</th>\n",
       "      <td>கவுண்டர் தேவர்.சார்பாக வெற்றி பெற வாழ்த்துக்கள் 🦁</td>\n",
       "      <td>Not_offensive</td>\n",
       "    </tr>\n",
       "    <tr>\n",
       "      <th>...</th>\n",
       "      <td>...</td>\n",
       "      <td>...</td>\n",
       "    </tr>\n",
       "    <tr>\n",
       "      <th>35134</th>\n",
       "      <td>Trending number #2 idhukku nammalam karanamnu ...</td>\n",
       "      <td>Not_offensive</td>\n",
       "    </tr>\n",
       "    <tr>\n",
       "      <th>35135</th>\n",
       "      <td>Movie script super, athuvum HIP HOP Tamizha mu...</td>\n",
       "      <td>Not_offensive</td>\n",
       "    </tr>\n",
       "    <tr>\n",
       "      <th>35136</th>\n",
       "      <td>Just 3k likes for 300k likes</td>\n",
       "      <td>Not_offensive</td>\n",
       "    </tr>\n",
       "    <tr>\n",
       "      <th>35137</th>\n",
       "      <td>Aaloo le lo. Kanda le lo.</td>\n",
       "      <td>not-Tamil</td>\n",
       "    </tr>\n",
       "    <tr>\n",
       "      <th>35138</th>\n",
       "      <td>நாமக்கல் மாவட்டம்  வன்னியர் சார்பாக திரௌபதி பட...</td>\n",
       "      <td>Not_offensive</td>\n",
       "    </tr>\n",
       "  </tbody>\n",
       "</table>\n",
       "<p>35139 rows × 2 columns</p>\n",
       "</div>"
      ],
      "text/plain": [
       "                                                sentence          label\n",
       "0                      movie vara level la Erika poguthu  Not_offensive\n",
       "1      I love Ajith Kumar Vivegam movie inki mjy bht ...      not-Tamil\n",
       "2              Padam nalla comedy padama irukum polaye..  Not_offensive\n",
       "3      karthick subburaj anne .... intha padam vetri ...  Not_offensive\n",
       "4      கவுண்டர் தேவர்.சார்பாக வெற்றி பெற வாழ்த்துக்கள் 🦁  Not_offensive\n",
       "...                                                  ...            ...\n",
       "35134  Trending number #2 idhukku nammalam karanamnu ...  Not_offensive\n",
       "35135  Movie script super, athuvum HIP HOP Tamizha mu...  Not_offensive\n",
       "35136                       Just 3k likes for 300k likes  Not_offensive\n",
       "35137                          Aaloo le lo. Kanda le lo.      not-Tamil\n",
       "35138  நாமக்கல் மாவட்டம்  வன்னியர் சார்பாக திரௌபதி பட...  Not_offensive\n",
       "\n",
       "[35139 rows x 2 columns]"
      ]
     },
     "execution_count": 117,
     "metadata": {},
     "output_type": "execute_result"
    }
   ],
   "source": [
    "train"
   ]
  },
  {
   "cell_type": "code",
   "execution_count": 118,
   "metadata": {},
   "outputs": [
    {
     "data": {
      "text/plain": [
       "Not_offensive                           25425\n",
       "Offensive_Untargetede                    2906\n",
       "Offensive_Targeted_Insult_Group          2557\n",
       "Offensive_Targeted_Insult_Individual     2343\n",
       "not-Tamil                                1454\n",
       "Offensive_Targeted_Insult_Other           454\n",
       "Name: label, dtype: int64"
      ]
     },
     "execution_count": 118,
     "metadata": {},
     "output_type": "execute_result"
    }
   ],
   "source": [
    "train['label'].value_counts()"
   ]
  },
  {
   "cell_type": "code",
   "execution_count": 120,
   "metadata": {},
   "outputs": [],
   "source": [
    "valid = pd.read_csv(f\"{BASE_DIR}/tamil_offensive_full_dev.csv\", sep=\"\\t\", header=None, names=['sentence', 'label', 'extra'])\n",
    "\n",
    "valid.drop(columns=['blah'], inplace=True)\n"
   ]
  },
  {
   "cell_type": "code",
   "execution_count": 123,
   "metadata": {},
   "outputs": [],
   "source": [
    "test = pd.read_csv(f\"{BASE_DIR}/tamil_offensive_full_test.csv\", sep=\"\\t\", header=None, names=['sentence'])\n"
   ]
  },
  {
   "cell_type": "code",
   "execution_count": 124,
   "metadata": {},
   "outputs": [
    {
     "data": {
      "text/html": [
       "<div>\n",
       "<style scoped>\n",
       "    .dataframe tbody tr th:only-of-type {\n",
       "        vertical-align: middle;\n",
       "    }\n",
       "\n",
       "    .dataframe tbody tr th {\n",
       "        vertical-align: top;\n",
       "    }\n",
       "\n",
       "    .dataframe thead th {\n",
       "        text-align: right;\n",
       "    }\n",
       "</style>\n",
       "<table border=\"1\" class=\"dataframe\">\n",
       "  <thead>\n",
       "    <tr style=\"text-align: right;\">\n",
       "      <th></th>\n",
       "      <th>sentence</th>\n",
       "    </tr>\n",
       "  </thead>\n",
       "  <tbody>\n",
       "    <tr>\n",
       "      <th>0</th>\n",
       "      <td>14.12.2018 epo trailer pathutu irken ... Semay...</td>\n",
       "    </tr>\n",
       "    <tr>\n",
       "      <th>1</th>\n",
       "      <td>Paka thana poro movie la Enna irukunu</td>\n",
       "    </tr>\n",
       "    <tr>\n",
       "      <th>2</th>\n",
       "      <td>“U kena tunggu lebih lama lagi untuk tahu saya...</td>\n",
       "    </tr>\n",
       "    <tr>\n",
       "      <th>3</th>\n",
       "      <td>Suriya anna vera level anna mass</td>\n",
       "    </tr>\n",
       "    <tr>\n",
       "      <th>4</th>\n",
       "      <td>suma kaththaatha da sound over a pooda kudaath...</td>\n",
       "    </tr>\n",
       "    <tr>\n",
       "      <th>...</th>\n",
       "      <td>...</td>\n",
       "    </tr>\n",
       "    <tr>\n",
       "      <th>4387</th>\n",
       "      <td>மண்ணு பொண்ணு ரெண்டுமே ஒன்னு அதுல எவன் கைய வச்ச...</td>\n",
       "    </tr>\n",
       "    <tr>\n",
       "      <th>4388</th>\n",
       "      <td>Babu mele ko ye song sunke kuch yesa feel hua ...</td>\n",
       "    </tr>\n",
       "    <tr>\n",
       "      <th>4389</th>\n",
       "      <td>asuran= aadukalam+pudupettai+ wada chennai..ye...</td>\n",
       "    </tr>\n",
       "    <tr>\n",
       "      <th>4390</th>\n",
       "      <td>Vijay's all movies look like same.</td>\n",
       "    </tr>\n",
       "    <tr>\n",
       "      <th>4391</th>\n",
       "      <td>Eh Idhu 96, yaara emathuringa.. Bangam ji Bang...</td>\n",
       "    </tr>\n",
       "  </tbody>\n",
       "</table>\n",
       "<p>4392 rows × 1 columns</p>\n",
       "</div>"
      ],
      "text/plain": [
       "                                               sentence\n",
       "0     14.12.2018 epo trailer pathutu irken ... Semay...\n",
       "1                 Paka thana poro movie la Enna irukunu\n",
       "2     “U kena tunggu lebih lama lagi untuk tahu saya...\n",
       "3                      Suriya anna vera level anna mass\n",
       "4     suma kaththaatha da sound over a pooda kudaath...\n",
       "...                                                 ...\n",
       "4387  மண்ணு பொண்ணு ரெண்டுமே ஒன்னு அதுல எவன் கைய வச்ச...\n",
       "4388  Babu mele ko ye song sunke kuch yesa feel hua ...\n",
       "4389  asuran= aadukalam+pudupettai+ wada chennai..ye...\n",
       "4390                 Vijay's all movies look like same.\n",
       "4391  Eh Idhu 96, yaara emathuringa.. Bangam ji Bang...\n",
       "\n",
       "[4392 rows x 1 columns]"
      ]
     },
     "execution_count": 124,
     "metadata": {},
     "output_type": "execute_result"
    }
   ],
   "source": [
    "test"
   ]
  },
  {
   "cell_type": "markdown",
   "metadata": {},
   "source": [
    "### Transliteration"
   ]
  },
  {
   "cell_type": "code",
   "execution_count": 206,
   "metadata": {},
   "outputs": [],
   "source": [
    "from libindic.transliteration import getInstance"
   ]
  },
  {
   "cell_type": "code",
   "execution_count": 207,
   "metadata": {},
   "outputs": [],
   "source": [
    "transliterator = getInstance()\n"
   ]
  },
  {
   "cell_type": "code",
   "execution_count": 19,
   "metadata": {},
   "outputs": [],
   "source": [
    "sent = \"கவுண்டர் தேவர்.சார்பாக வெற்றி பெற வாழ்த்துக்கள் 🦁\""
   ]
  },
  {
   "cell_type": "code",
   "execution_count": 25,
   "metadata": {},
   "outputs": [],
   "source": [
    "sent = \"في قناتي على اليوتيوب ( كل ماتتمناه 18 ) ًاشت...\""
   ]
  },
  {
   "cell_type": "code",
   "execution_count": 26,
   "metadata": {},
   "outputs": [
    {
     "data": {
      "text/plain": [
       "' في قناتي على اليوتيوب ( كل ماتتمناه 18 ) ًاشت...'"
      ]
     },
     "execution_count": 26,
     "metadata": {},
     "output_type": "execute_result"
    }
   ],
   "source": [
    "transliterator.transliterate(sent, \"en_US\")"
   ]
  },
  {
   "cell_type": "code",
   "execution_count": 28,
   "metadata": {},
   "outputs": [],
   "source": [
    "train['sentence'] = train['sentence'].apply(lambda x: transliterator.transliterate(x, \"en_US\"))"
   ]
  },
  {
   "cell_type": "code",
   "execution_count": 219,
   "metadata": {},
   "outputs": [
    {
     "data": {
      "text/html": [
       "<div>\n",
       "<style scoped>\n",
       "    .dataframe tbody tr th:only-of-type {\n",
       "        vertical-align: middle;\n",
       "    }\n",
       "\n",
       "    .dataframe tbody tr th {\n",
       "        vertical-align: top;\n",
       "    }\n",
       "\n",
       "    .dataframe thead th {\n",
       "        text-align: right;\n",
       "    }\n",
       "</style>\n",
       "<table border=\"1\" class=\"dataframe\">\n",
       "  <thead>\n",
       "    <tr style=\"text-align: right;\">\n",
       "      <th></th>\n",
       "      <th>sentence</th>\n",
       "      <th>label</th>\n",
       "      <th>token_count</th>\n",
       "    </tr>\n",
       "  </thead>\n",
       "  <tbody>\n",
       "    <tr>\n",
       "      <th>0</th>\n",
       "      <td>movie vara level la Erika poguthu</td>\n",
       "      <td>Not_offensive</td>\n",
       "      <td>6</td>\n",
       "    </tr>\n",
       "    <tr>\n",
       "      <th>1</th>\n",
       "      <td>I love Ajith Kumar Vivegam movie inki mjy bht ...</td>\n",
       "      <td>not-Tamil</td>\n",
       "      <td>11</td>\n",
       "    </tr>\n",
       "    <tr>\n",
       "      <th>2</th>\n",
       "      <td>Padam nalla comedy padama irukum polaye..</td>\n",
       "      <td>Not_offensive</td>\n",
       "      <td>7</td>\n",
       "    </tr>\n",
       "    <tr>\n",
       "      <th>3</th>\n",
       "      <td>karthick subburaj anne .... intha padam vetri ...</td>\n",
       "      <td>Not_offensive</td>\n",
       "      <td>12</td>\n",
       "    </tr>\n",
       "    <tr>\n",
       "      <th>4</th>\n",
       "      <td>கவுண்டர் தேவர்.சார்பாக வெற்றி பெற வாழ்த்துக்கள் 🦁</td>\n",
       "      <td>Not_offensive</td>\n",
       "      <td>6</td>\n",
       "    </tr>\n",
       "    <tr>\n",
       "      <th>...</th>\n",
       "      <td>...</td>\n",
       "      <td>...</td>\n",
       "      <td>...</td>\n",
       "    </tr>\n",
       "    <tr>\n",
       "      <th>35134</th>\n",
       "      <td>Trending number #2 idhukku nammalam karanamnu ...</td>\n",
       "      <td>Not_offensive</td>\n",
       "      <td>19</td>\n",
       "    </tr>\n",
       "    <tr>\n",
       "      <th>35135</th>\n",
       "      <td>Movie script super, athuvum HIP HOP Tamizha mu...</td>\n",
       "      <td>Not_offensive</td>\n",
       "      <td>10</td>\n",
       "    </tr>\n",
       "    <tr>\n",
       "      <th>35136</th>\n",
       "      <td>Just 3k likes for 300k likes</td>\n",
       "      <td>Not_offensive</td>\n",
       "      <td>6</td>\n",
       "    </tr>\n",
       "    <tr>\n",
       "      <th>35137</th>\n",
       "      <td>Aaloo le lo. Kanda le lo.</td>\n",
       "      <td>not-Tamil</td>\n",
       "      <td>8</td>\n",
       "    </tr>\n",
       "    <tr>\n",
       "      <th>35138</th>\n",
       "      <td>நாமக்கல் மாவட்டம்  வன்னியர் சார்பாக திரௌபதி பட...</td>\n",
       "      <td>Not_offensive</td>\n",
       "      <td>13</td>\n",
       "    </tr>\n",
       "  </tbody>\n",
       "</table>\n",
       "<p>35139 rows × 3 columns</p>\n",
       "</div>"
      ],
      "text/plain": [
       "                                                sentence          label  \\\n",
       "0                      movie vara level la Erika poguthu  Not_offensive   \n",
       "1      I love Ajith Kumar Vivegam movie inki mjy bht ...      not-Tamil   \n",
       "2              Padam nalla comedy padama irukum polaye..  Not_offensive   \n",
       "3      karthick subburaj anne .... intha padam vetri ...  Not_offensive   \n",
       "4      கவுண்டர் தேவர்.சார்பாக வெற்றி பெற வாழ்த்துக்கள் 🦁  Not_offensive   \n",
       "...                                                  ...            ...   \n",
       "35134  Trending number #2 idhukku nammalam karanamnu ...  Not_offensive   \n",
       "35135  Movie script super, athuvum HIP HOP Tamizha mu...  Not_offensive   \n",
       "35136                       Just 3k likes for 300k likes  Not_offensive   \n",
       "35137                          Aaloo le lo. Kanda le lo.      not-Tamil   \n",
       "35138  நாமக்கல் மாவட்டம்  வன்னியர் சார்பாக திரௌபதி பட...  Not_offensive   \n",
       "\n",
       "       token_count  \n",
       "0                6  \n",
       "1               11  \n",
       "2                7  \n",
       "3               12  \n",
       "4                6  \n",
       "...            ...  \n",
       "35134           19  \n",
       "35135           10  \n",
       "35136            6  \n",
       "35137            8  \n",
       "35138           13  \n",
       "\n",
       "[35139 rows x 3 columns]"
      ]
     },
     "execution_count": 219,
     "metadata": {},
     "output_type": "execute_result"
    }
   ],
   "source": [
    "train"
   ]
  },
  {
   "cell_type": "code",
   "execution_count": 34,
   "metadata": {},
   "outputs": [],
   "source": [
    "train.to_csv(f\"{BASE_DIR}/tamil_offensive_full_train_transliterated.csv\", index=False)"
   ]
  },
  {
   "cell_type": "code",
   "execution_count": 33,
   "metadata": {},
   "outputs": [],
   "source": [
    "valid['sentence'] = valid['sentence'].apply(lambda x: transliterator.transliterate(x, \"en_US\"))"
   ]
  },
  {
   "cell_type": "code",
   "execution_count": 36,
   "metadata": {},
   "outputs": [],
   "source": [
    "valid.to_csv(f\"{BASE_DIR}/tamil_offensive_full_dev_transliterated.csv\", index=False)\n"
   ]
  },
  {
   "cell_type": "code",
   "execution_count": 41,
   "metadata": {},
   "outputs": [
    {
     "data": {
      "text/html": [
       "<div>\n",
       "<style scoped>\n",
       "    .dataframe tbody tr th:only-of-type {\n",
       "        vertical-align: middle;\n",
       "    }\n",
       "\n",
       "    .dataframe tbody tr th {\n",
       "        vertical-align: top;\n",
       "    }\n",
       "\n",
       "    .dataframe thead th {\n",
       "        text-align: right;\n",
       "    }\n",
       "</style>\n",
       "<table border=\"1\" class=\"dataframe\">\n",
       "  <thead>\n",
       "    <tr style=\"text-align: right;\">\n",
       "      <th></th>\n",
       "      <th>sentence</th>\n",
       "    </tr>\n",
       "  </thead>\n",
       "  <tbody>\n",
       "    <tr>\n",
       "      <th>0</th>\n",
       "      <td>14.12.2018 epo trailer pathutu irken ... Semay...</td>\n",
       "    </tr>\n",
       "    <tr>\n",
       "      <th>1</th>\n",
       "      <td>Paka thana poro movie la Enna irukunu</td>\n",
       "    </tr>\n",
       "    <tr>\n",
       "      <th>2</th>\n",
       "      <td>“U kena tunggu lebih lama lagi untuk tahu saya...</td>\n",
       "    </tr>\n",
       "    <tr>\n",
       "      <th>3</th>\n",
       "      <td>Suriya anna vera level anna mass</td>\n",
       "    </tr>\n",
       "    <tr>\n",
       "      <th>4</th>\n",
       "      <td>suma kaththaatha da sound over a pooda kudaath...</td>\n",
       "    </tr>\n",
       "  </tbody>\n",
       "</table>\n",
       "</div>"
      ],
      "text/plain": [
       "                                            sentence\n",
       "0  14.12.2018 epo trailer pathutu irken ... Semay...\n",
       "1              Paka thana poro movie la Enna irukunu\n",
       "2  “U kena tunggu lebih lama lagi untuk tahu saya...\n",
       "3                   Suriya anna vera level anna mass\n",
       "4  suma kaththaatha da sound over a pooda kudaath..."
      ]
     },
     "execution_count": 41,
     "metadata": {},
     "output_type": "execute_result"
    }
   ],
   "source": [
    "test = pd.read_csv(f\"{BASE_DIR}/tamil_offensive_full_test.csv\", sep=\"\\t\", header=None, names=['sentence'])\n",
    "test.head()"
   ]
  },
  {
   "cell_type": "code",
   "execution_count": 42,
   "metadata": {},
   "outputs": [],
   "source": [
    "test['sentence'] = test['sentence'].apply(lambda x: transliterator.transliterate(x, \"en_US\"))"
   ]
  },
  {
   "cell_type": "code",
   "execution_count": 44,
   "metadata": {},
   "outputs": [],
   "source": [
    "test.to_csv(f\"{BASE_DIR}/tamil_offensive_full_test_transliterated.csv\", index=False)"
   ]
  },
  {
   "cell_type": "markdown",
   "metadata": {},
   "source": [
    "### Dataset Exploration"
   ]
  },
  {
   "cell_type": "code",
   "execution_count": 200,
   "metadata": {},
   "outputs": [
    {
     "data": {
      "text/plain": [
       "((35139, 3), (4388, 4), (4392, 2))"
      ]
     },
     "execution_count": 200,
     "metadata": {},
     "output_type": "execute_result"
    }
   ],
   "source": [
    "train.shape, valid.shape, test.shape"
   ]
  },
  {
   "cell_type": "code",
   "execution_count": 125,
   "metadata": {},
   "outputs": [],
   "source": [
    "import unicodedata as ud\n",
    "\n",
    "latin_letters= {}\n",
    "\n",
    "def is_latin(uchr):\n",
    "    try: return latin_letters[uchr]\n",
    "    except KeyError:\n",
    "         return latin_letters.setdefault(uchr, 'LATIN' in ud.name(uchr))\n",
    "\n",
    "def only_roman_chars(unistr):\n",
    "    return all(is_latin(uchr)\n",
    "           for uchr in unistr\n",
    "           if uchr.isalpha()) # isalpha suggested by John Machin"
   ]
  },
  {
   "cell_type": "code",
   "execution_count": 126,
   "metadata": {},
   "outputs": [
    {
     "data": {
      "text/plain": [
       "False"
      ]
     },
     "execution_count": 126,
     "metadata": {},
     "output_type": "execute_result"
    }
   ],
   "source": [
    "only_roman_chars(\"विकिपीडिया\")"
   ]
  },
  {
   "cell_type": "code",
   "execution_count": 136,
   "metadata": {},
   "outputs": [],
   "source": [
    "def get_roman_char_count_distribution(df):\n",
    "    count = 0\n",
    "    for index, row in df.iterrows():\n",
    "        if not only_roman_chars(row['sentence']):\n",
    "            count +=1\n",
    "    total_rows = df.shape[0]\n",
    "    not_roman = count/total_rows\n",
    "    roman = (total_rows - count)/total_rows\n",
    "    return roman, not_roman"
   ]
  },
  {
   "cell_type": "code",
   "execution_count": 129,
   "metadata": {},
   "outputs": [],
   "source": [
    "def get_class_distribution(df):\n",
    "    D = Counter(df['label'])\n",
    "    plt.rcParams[\"figure.figsize\"] = (3,3)\n",
    "    plt.bar(range(len(D)), list(D.values()), align='center')\n",
    "    plt.xticks(range(len(D)), list(D.keys()))\n",
    "    plt.show()\n",
    "    \n",
    "    print('Min no. of sentences: ', min(D.values()))\n",
    "    print('Max no. of sentences: ', max(D.values()))\n",
    "    print('Avg no. of sentences: ', mean(D.values()))\n",
    "    print('Median of sentences: ', median(D.values()))"
   ]
  },
  {
   "cell_type": "code",
   "execution_count": 130,
   "metadata": {},
   "outputs": [],
   "source": [
    "nlp = spacy.load(\"xx_ent_wiki_sm\")\n",
    "def tokenize(s: str):\n",
    "    doc = nlp(s)\n",
    "\n",
    "    return [token.text for token in doc]"
   ]
  },
  {
   "cell_type": "code",
   "execution_count": 131,
   "metadata": {},
   "outputs": [
    {
     "data": {
      "text/plain": [
       "['I', 'am', 'Dr', '.', 'Megha', '.']"
      ]
     },
     "execution_count": 131,
     "metadata": {},
     "output_type": "execute_result"
    }
   ],
   "source": [
    "tokenize(\"I am Dr.Megha.\")"
   ]
  },
  {
   "cell_type": "code",
   "execution_count": 132,
   "metadata": {},
   "outputs": [],
   "source": [
    "def get_token_level_distribution(df):\n",
    "    len_of_tokens = []\n",
    "    for index, row in df.iterrows():\n",
    "        tokens = tokenize((row['sentence']).lower())\n",
    "        len_of_tokens.append(len(tokens))\n",
    "    print('Min no. of tokens: ', min(len_of_tokens))\n",
    "    print('Max no. of tokens: ', max(len_of_tokens))\n",
    "    print('Avg no. of tokens: ', mean(len_of_tokens))\n",
    "    print('Median of no. of tokens: ', median(len_of_tokens))"
   ]
  },
  {
   "cell_type": "code",
   "execution_count": 137,
   "metadata": {},
   "outputs": [
    {
     "data": {
      "text/plain": [
       "((0.8041207774837076, 0.19587922251629244),\n",
       " (0.8101640838650866, 0.1898359161349134),\n",
       " (0.8119307832422586, 0.18806921675774135))"
      ]
     },
     "execution_count": 137,
     "metadata": {},
     "output_type": "execute_result"
    }
   ],
   "source": [
    "get_roman_char_count_distribution(train), get_roman_char_count_distribution(valid), get_roman_char_count_distribution(test)\n"
   ]
  },
  {
   "cell_type": "code",
   "execution_count": 138,
   "metadata": {},
   "outputs": [
    {
     "data": {
      "image/png": "[encoded data removed]",
      "text/plain": [
       "<Figure size 216x216 with 1 Axes>"
      ]
     },
     "metadata": {
      "needs_background": "light"
     },
     "output_type": "display_data"
    },
    {
     "name": "stdout",
     "output_type": "stream",
     "text": [
      "Min no. of sentences:  454\n",
      "Max no. of sentences:  25425\n",
      "Avg no. of sentences:  5856.5\n",
      "Median of sentences:  2450.0\n"
     ]
    },
    {
     "data": {
      "image/png": "[encoded data removed]",
      "text/plain": [
       "<Figure size 216x216 with 1 Axes>"
      ]
     },
     "metadata": {
      "needs_background": "light"
     },
     "output_type": "display_data"
    },
    {
     "name": "stdout",
     "output_type": "stream",
     "text": [
      "Min no. of sentences:  65\n",
      "Max no. of sentences:  3193\n",
      "Avg no. of sentences:  731.3333333333334\n",
      "Median of sentences:  301.0\n"
     ]
    },
    {
     "data": {
      "text/plain": [
       "(None, None)"
      ]
     },
     "execution_count": 138,
     "metadata": {},
     "output_type": "execute_result"
    }
   ],
   "source": [
    "get_class_distribution(train), get_class_distribution(valid)"
   ]
  },
  {
   "cell_type": "code",
   "execution_count": 57,
   "metadata": {},
   "outputs": [
    {
     "data": {
      "text/plain": [
       "Not_offensive                           25425\n",
       "Offensive_Untargetede                    2906\n",
       "Offensive_Targeted_Insult_Group          2557\n",
       "Offensive_Targeted_Insult_Individual     2343\n",
       "not-Tamil                                1454\n",
       "Offensive_Targeted_Insult_Other           454\n",
       "Name: label, dtype: int64"
      ]
     },
     "execution_count": 57,
     "metadata": {},
     "output_type": "execute_result"
    }
   ],
   "source": [
    "train['label'].value_counts()"
   ]
  },
  {
   "cell_type": "code",
   "execution_count": 147,
   "metadata": {},
   "outputs": [],
   "source": [
    "# get_token_level_distribution(train), get_token_level_distribution(valid), get_token_level_distribution(test)"
   ]
  },
  {
   "cell_type": "code",
   "execution_count": 140,
   "metadata": {},
   "outputs": [],
   "source": [
    "def get_token_count(sent):\n",
    "    doc = nlp(sent)\n",
    "    tokens = [token for token in doc]\n",
    "    return len(tokens)"
   ]
  },
  {
   "cell_type": "code",
   "execution_count": 141,
   "metadata": {},
   "outputs": [],
   "source": [
    "train['token_count'] = train['sentence'].apply(lambda x: get_token_count(x))"
   ]
  },
  {
   "cell_type": "code",
   "execution_count": 142,
   "metadata": {},
   "outputs": [],
   "source": [
    "valid['token_count'] = valid['sentence'].apply(lambda x: get_token_count(x))"
   ]
  },
  {
   "cell_type": "code",
   "execution_count": 143,
   "metadata": {},
   "outputs": [],
   "source": [
    "test['token_count'] = test['sentence'].apply(lambda x: get_token_count(x))"
   ]
  },
  {
   "cell_type": "code",
   "execution_count": 144,
   "metadata": {},
   "outputs": [
    {
     "data": {
      "text/plain": [
       "(12.040866273940635, 183, 1, 9.0)"
      ]
     },
     "execution_count": 144,
     "metadata": {},
     "output_type": "execute_result"
    }
   ],
   "source": [
    "train['token_count'].mean(), train['token_count'].max(), train['token_count'].min(), train['token_count'].median()"
   ]
  },
  {
   "cell_type": "code",
   "execution_count": 145,
   "metadata": {},
   "outputs": [
    {
     "data": {
      "text/plain": [
       "(12.028942570647219, 93, 2, 9.0)"
      ]
     },
     "execution_count": 145,
     "metadata": {},
     "output_type": "execute_result"
    }
   ],
   "source": [
    "valid['token_count'].mean(), valid['token_count'].max(), valid['token_count'].min(), valid['token_count'].median()"
   ]
  },
  {
   "cell_type": "code",
   "execution_count": 146,
   "metadata": {},
   "outputs": [
    {
     "data": {
      "text/plain": [
       "(11.896857923497267, 138, 1, 9.0)"
      ]
     },
     "execution_count": 146,
     "metadata": {},
     "output_type": "execute_result"
    }
   ],
   "source": [
    "test['token_count'].mean(), test['token_count'].max(), test['token_count'].min(), test['token_count'].median()"
   ]
  },
  {
   "cell_type": "code",
   "execution_count": 197,
   "metadata": {},
   "outputs": [
    {
     "data": {
      "text/plain": [
       "<AxesSubplot:ylabel='Frequency'>"
      ]
     },
     "execution_count": 197,
     "metadata": {},
     "output_type": "execute_result"
    },
    {
     "data": {
      "image/png": "[encoded data removed]",
      "text/plain": [
       "<Figure size 720x720 with 1 Axes>"
      ]
     },
     "metadata": {
      "needs_background": "light"
     },
     "output_type": "display_data"
    }
   ],
   "source": [
    "train['token_count'].plot.hist(bins=100, alpha=1)"
   ]
  },
  {
   "cell_type": "code",
   "execution_count": 198,
   "metadata": {},
   "outputs": [
    {
     "data": {
      "text/plain": [
       "<AxesSubplot:ylabel='Frequency'>"
      ]
     },
     "execution_count": 198,
     "metadata": {},
     "output_type": "execute_result"
    },
    {
     "data": {
      "image/png": "[encoded data removed]",
      "text/plain": [
       "<Figure size 720x720 with 1 Axes>"
      ]
     },
     "metadata": {
      "needs_background": "light"
     },
     "output_type": "display_data"
    }
   ],
   "source": [
    "test['token_count'].plot.hist(bins=100, alpha=1)"
   ]
  },
  {
   "cell_type": "code",
   "execution_count": 199,
   "metadata": {},
   "outputs": [
    {
     "data": {
      "text/plain": [
       "<AxesSubplot:ylabel='Frequency'>"
      ]
     },
     "execution_count": 199,
     "metadata": {},
     "output_type": "execute_result"
    },
    {
     "data": {
      "image/png": "[encoded data removed]",
      "text/plain": [
       "<Figure size 720x720 with 1 Axes>"
      ]
     },
     "metadata": {
      "needs_background": "light"
     },
     "output_type": "display_data"
    }
   ],
   "source": [
    "valid['token_count'].plot.hist(bins=100, alpha=1)"
   ]
  },
  {
   "cell_type": "markdown",
   "metadata": {},
   "source": [
    "## Hope Speech Detection"
   ]
  },
  {
   "cell_type": "markdown",
   "metadata": {},
   "source": [
    "### Data Loading"
   ]
  },
  {
   "cell_type": "code",
   "execution_count": 156,
   "metadata": {},
   "outputs": [],
   "source": [
    "hope_train = pd.read_csv(f\"{BASE_DIR}/tamil_hope_first_train.csv\", sep=\"\\t\", names=['sentence', 'label', 'extra'])\n",
    "hope_train.drop(columns=['extra'], inplace=True)"
   ]
  },
  {
   "cell_type": "code",
   "execution_count": 158,
   "metadata": {},
   "outputs": [],
   "source": [
    "hope_dev = pd.read_csv(f\"{BASE_DIR}/tamil_hope_first_dev.csv\", sep=\"\\t\", names=['sentence', 'label', 'extra'])\n",
    "hope_dev.drop(columns=['extra'], inplace=True)"
   ]
  },
  {
   "cell_type": "code",
   "execution_count": 163,
   "metadata": {},
   "outputs": [],
   "source": [
    "hope_test = pd.read_csv(f\"{BASE_DIR}/tamil_hope_test.csv\", sep=\"\\t\", names=['sentence', 'label'])\n"
   ]
  },
  {
   "cell_type": "code",
   "execution_count": 164,
   "metadata": {},
   "outputs": [
    {
     "data": {
      "text/html": [
       "<div>\n",
       "<style scoped>\n",
       "    .dataframe tbody tr th:only-of-type {\n",
       "        vertical-align: middle;\n",
       "    }\n",
       "\n",
       "    .dataframe tbody tr th {\n",
       "        vertical-align: top;\n",
       "    }\n",
       "\n",
       "    .dataframe thead th {\n",
       "        text-align: right;\n",
       "    }\n",
       "</style>\n",
       "<table border=\"1\" class=\"dataframe\">\n",
       "  <thead>\n",
       "    <tr style=\"text-align: right;\">\n",
       "      <th></th>\n",
       "      <th>sentence</th>\n",
       "      <th>label</th>\n",
       "    </tr>\n",
       "  </thead>\n",
       "  <tbody>\n",
       "    <tr>\n",
       "      <th>0</th>\n",
       "      <td>text;label;</td>\n",
       "      <td>NaN</td>\n",
       "    </tr>\n",
       "    <tr>\n",
       "      <th>1</th>\n",
       "      <td>Konjam methuva pesuninganna nalarukum bro...;H...</td>\n",
       "      <td>NaN</td>\n",
       "    </tr>\n",
       "    <tr>\n",
       "      <th>2</th>\n",
       "      <td>Sema bro............. தமிழன் என்று சொல்லடா தலை...</td>\n",
       "      <td>NaN</td>\n",
       "    </tr>\n",
       "    <tr>\n",
       "      <th>3</th>\n",
       "      <td>9.52 mg bro  plz crrt pannunga bro;Hope_speech;</td>\n",
       "      <td>NaN</td>\n",
       "    </tr>\n",
       "    <tr>\n",
       "      <th>4</th>\n",
       "      <td>Superb anna;Non_hope_speech;</td>\n",
       "      <td>NaN</td>\n",
       "    </tr>\n",
       "    <tr>\n",
       "      <th>...</th>\n",
       "      <td>...</td>\n",
       "      <td>...</td>\n",
       "    </tr>\n",
       "    <tr>\n",
       "      <th>2016</th>\n",
       "      <td>Solunga bro parvala;Hope_speech;</td>\n",
       "      <td>NaN</td>\n",
       "    </tr>\n",
       "    <tr>\n",
       "      <th>2017</th>\n",
       "      <td>Madangowri anna 9.53s  time note pannunga Indi...</td>\n",
       "      <td>NaN</td>\n",
       "    </tr>\n",
       "    <tr>\n",
       "      <th>2018</th>\n",
       "      <td>Enna nadu vanthu vaccine kudaka matadragalo an...</td>\n",
       "      <td>NaN</td>\n",
       "    </tr>\n",
       "    <tr>\n",
       "      <th>2019</th>\n",
       "      <td>Yes..ipdii thaan avangaluku bathil kudukanu......</td>\n",
       "      <td>NaN</td>\n",
       "    </tr>\n",
       "    <tr>\n",
       "      <th>2020</th>\n",
       "      <td>No views .. but 390 likes 🤣... MG squad;not-Ta...</td>\n",
       "      <td>NaN</td>\n",
       "    </tr>\n",
       "  </tbody>\n",
       "</table>\n",
       "<p>2021 rows × 2 columns</p>\n",
       "</div>"
      ],
      "text/plain": [
       "                                               sentence  label\n",
       "0                                           text;label;    NaN\n",
       "1     Konjam methuva pesuninganna nalarukum bro...;H...    NaN\n",
       "2     Sema bro............. தமிழன் என்று சொல்லடா தலை...    NaN\n",
       "3       9.52 mg bro  plz crrt pannunga bro;Hope_speech;    NaN\n",
       "4                          Superb anna;Non_hope_speech;    NaN\n",
       "...                                                 ...    ...\n",
       "2016                   Solunga bro parvala;Hope_speech;    NaN\n",
       "2017  Madangowri anna 9.53s  time note pannunga Indi...    NaN\n",
       "2018  Enna nadu vanthu vaccine kudaka matadragalo an...    NaN\n",
       "2019  Yes..ipdii thaan avangaluku bathil kudukanu......    NaN\n",
       "2020  No views .. but 390 likes 🤣... MG squad;not-Ta...    NaN\n",
       "\n",
       "[2021 rows x 2 columns]"
      ]
     },
     "execution_count": 164,
     "metadata": {},
     "output_type": "execute_result"
    }
   ],
   "source": [
    "hope_test"
   ]
  },
  {
   "cell_type": "markdown",
   "metadata": {},
   "source": [
    "### Data Exploration"
   ]
  },
  {
   "cell_type": "code",
   "execution_count": 166,
   "metadata": {},
   "outputs": [
    {
     "data": {
      "text/plain": [
       "((0.8399752475247525, 0.16002475247524753),\n",
       " (0.8389494549058474, 0.16105054509415262),\n",
       " (0.8485898070262247, 0.15141019297377536))"
      ]
     },
     "execution_count": 166,
     "metadata": {},
     "output_type": "execute_result"
    }
   ],
   "source": [
    "get_roman_char_count_distribution(hope_train), get_roman_char_count_distribution(hope_dev), get_roman_char_count_distribution(hope_test)\n"
   ]
  },
  {
   "cell_type": "code",
   "execution_count": 167,
   "metadata": {},
   "outputs": [
    {
     "data": {
      "image/png": "[encoded data removed]",
      "text/plain": [
       "<Figure size 216x216 with 1 Axes>"
      ]
     },
     "metadata": {
      "needs_background": "light"
     },
     "output_type": "display_data"
    },
    {
     "name": "stdout",
     "output_type": "stream",
     "text": [
      "Min no. of sentences:  1961\n",
      "Max no. of sentences:  7872\n",
      "Avg no. of sentences:  5386.666666666667\n",
      "Median of sentences:  6327\n"
     ]
    },
    {
     "data": {
      "image/png": "[encoded data removed]",
      "text/plain": [
       "<Figure size 216x216 with 1 Axes>"
      ]
     },
     "metadata": {
      "needs_background": "light"
     },
     "output_type": "display_data"
    },
    {
     "name": "stdout",
     "output_type": "stream",
     "text": [
      "Min no. of sentences:  263\n",
      "Max no. of sentences:  998\n",
      "Avg no. of sentences:  672.6666666666666\n",
      "Median of sentences:  757\n"
     ]
    },
    {
     "data": {
      "text/plain": [
       "(None, None)"
      ]
     },
     "execution_count": 167,
     "metadata": {},
     "output_type": "execute_result"
    }
   ],
   "source": [
    "get_class_distribution(hope_train), get_class_distribution(hope_dev)"
   ]
  },
  {
   "cell_type": "code",
   "execution_count": 168,
   "metadata": {},
   "outputs": [
    {
     "data": {
      "text/plain": [
       "Non_hope_speech    7872\n",
       "Hope_speech        6327\n",
       "not-Tamil          1961\n",
       "Name: label, dtype: int64"
      ]
     },
     "execution_count": 168,
     "metadata": {},
     "output_type": "execute_result"
    }
   ],
   "source": [
    "hope_train['label'].value_counts()"
   ]
  },
  {
   "cell_type": "code",
   "execution_count": 169,
   "metadata": {},
   "outputs": [],
   "source": [
    "hope_train['token_count'] = hope_train['sentence'].apply(lambda x: get_token_count(x))\n",
    "\n",
    "hope_dev['token_count'] = hope_dev['sentence'].apply(lambda x: get_token_count(x))\n",
    "\n",
    "hope_test['token_count'] = hope_test['sentence'].apply(lambda x: get_token_count(x))"
   ]
  },
  {
   "cell_type": "code",
   "execution_count": 170,
   "metadata": {},
   "outputs": [
    {
     "data": {
      "text/plain": [
       "(9.572648514851485, 204, 1, 7.0)"
      ]
     },
     "execution_count": 170,
     "metadata": {},
     "output_type": "execute_result"
    }
   ],
   "source": [
    "hope_train['token_count'].mean(), hope_train['token_count'].max(), hope_train['token_count'].min(), hope_train['token_count'].median()"
   ]
  },
  {
   "cell_type": "code",
   "execution_count": 171,
   "metadata": {},
   "outputs": [
    {
     "data": {
      "text/plain": [
       "(9.974727452923688, 159, 1, 7.0)"
      ]
     },
     "execution_count": 171,
     "metadata": {},
     "output_type": "execute_result"
    }
   ],
   "source": [
    "hope_dev['token_count'].mean(), hope_dev['token_count'].max(), hope_dev['token_count'].min(), hope_dev['token_count'].median()"
   ]
  },
  {
   "cell_type": "code",
   "execution_count": 172,
   "metadata": {},
   "outputs": [
    {
     "data": {
      "text/plain": [
       "(11.070262246412668, 187, 2, 8.0)"
      ]
     },
     "execution_count": 172,
     "metadata": {},
     "output_type": "execute_result"
    }
   ],
   "source": [
    "hope_test['token_count'].mean(), hope_test['token_count'].max(), hope_test['token_count'].min(), hope_test['token_count'].median()"
   ]
  },
  {
   "cell_type": "code",
   "execution_count": 190,
   "metadata": {},
   "outputs": [
    {
     "data": {
      "text/plain": [
       "<AxesSubplot:ylabel='Frequency'>"
      ]
     },
     "execution_count": 190,
     "metadata": {},
     "output_type": "execute_result"
    },
    {
     "data": {
      "image/png": "[encoded data removed]",
      "text/plain": [
       "<Figure size 720x720 with 1 Axes>"
      ]
     },
     "metadata": {
      "needs_background": "light"
     },
     "output_type": "display_data"
    }
   ],
   "source": [
    "hope_test['token_count'].plot.hist(bins=100, alpha=1)"
   ]
  },
  {
   "cell_type": "code",
   "execution_count": 195,
   "metadata": {},
   "outputs": [
    {
     "data": {
      "text/plain": [
       "<AxesSubplot:ylabel='Frequency'>"
      ]
     },
     "execution_count": 195,
     "metadata": {},
     "output_type": "execute_result"
    },
    {
     "data": {
      "image/png": "[encoded data removed]",
      "text/plain": [
       "<Figure size 720x720 with 1 Axes>"
      ]
     },
     "metadata": {
      "needs_background": "light"
     },
     "output_type": "display_data"
    }
   ],
   "source": [
    "hope_train['token_count'].plot.hist(bins=100, alpha=1)"
   ]
  },
  {
   "cell_type": "code",
   "execution_count": 194,
   "metadata": {},
   "outputs": [
    {
     "data": {
      "text/plain": [
       "107"
      ]
     },
     "execution_count": 194,
     "metadata": {},
     "output_type": "execute_result"
    }
   ],
   "source": [
    "len(hope_train['token_count'].value_counts())"
   ]
  },
  {
   "cell_type": "code",
   "execution_count": 196,
   "metadata": {},
   "outputs": [
    {
     "data": {
      "text/plain": [
       "<AxesSubplot:ylabel='Frequency'>"
      ]
     },
     "execution_count": 196,
     "metadata": {},
     "output_type": "execute_result"
    },
    {
     "data": {
      "image/png": "[encoded data removed]",
      "text/plain": [
       "<Figure size 720x720 with 1 Axes>"
      ]
     },
     "metadata": {
      "needs_background": "light"
     },
     "output_type": "display_data"
    }
   ],
   "source": [
    "hope_dev['token_count'].plot.hist(bins=100, alpha=1)"
   ]
  },
  {
   "cell_type": "code",
   "execution_count": 202,
   "metadata": {},
   "outputs": [
    {
     "data": {
      "text/plain": [
       "((16160, 3), (2018, 3), (2021, 3))"
      ]
     },
     "execution_count": 202,
     "metadata": {},
     "output_type": "execute_result"
    }
   ],
   "source": [
    "hope_train.shape, hope_dev.shape, hope_test.shape"
   ]
  },
  {
   "cell_type": "markdown",
   "metadata": {},
   "source": [
    "### Transliteration"
   ]
  },
  {
   "cell_type": "code",
   "execution_count": 208,
   "metadata": {},
   "outputs": [],
   "source": [
    "hope_train['sentence'] = hope_train['sentence'].apply(lambda x: transliterator.transliterate(x, \"en_US\"))"
   ]
  },
  {
   "cell_type": "code",
   "execution_count": 209,
   "metadata": {},
   "outputs": [
    {
     "data": {
      "text/html": [
       "<div>\n",
       "<style scoped>\n",
       "    .dataframe tbody tr th:only-of-type {\n",
       "        vertical-align: middle;\n",
       "    }\n",
       "\n",
       "    .dataframe tbody tr th {\n",
       "        vertical-align: top;\n",
       "    }\n",
       "\n",
       "    .dataframe thead th {\n",
       "        text-align: right;\n",
       "    }\n",
       "</style>\n",
       "<table border=\"1\" class=\"dataframe\">\n",
       "  <thead>\n",
       "    <tr style=\"text-align: right;\">\n",
       "      <th></th>\n",
       "      <th>sentence</th>\n",
       "      <th>label</th>\n",
       "      <th>token_count</th>\n",
       "    </tr>\n",
       "  </thead>\n",
       "  <tbody>\n",
       "    <tr>\n",
       "      <th>0</th>\n",
       "      <td>Realme india product</td>\n",
       "      <td>not-Tamil</td>\n",
       "      <td>3</td>\n",
       "    </tr>\n",
       "    <tr>\n",
       "      <th>1</th>\n",
       "      <td>I also don't have tiktok hello and allnBut I'm...</td>\n",
       "      <td>Hope_speech</td>\n",
       "      <td>11</td>\n",
       "    </tr>\n",
       "    <tr>\n",
       "      <th>2</th>\n",
       "      <td>Thalaivare..neengale inum one plus mobile vach...</td>\n",
       "      <td>Non_hope_speech</td>\n",
       "      <td>11</td>\n",
       "    </tr>\n",
       "    <tr>\n",
       "      <th>3</th>\n",
       "      <td>Annee varanda thondai.. corona virus affect pa...</td>\n",
       "      <td>Hope_speech</td>\n",
       "      <td>20</td>\n",
       "    </tr>\n",
       "    <tr>\n",
       "      <th>4</th>\n",
       "      <td>5views but 18likes</td>\n",
       "      <td>Non_hope_speech</td>\n",
       "      <td>3</td>\n",
       "    </tr>\n",
       "    <tr>\n",
       "      <th>...</th>\n",
       "      <td>...</td>\n",
       "      <td>...</td>\n",
       "      <td>...</td>\n",
       "    </tr>\n",
       "    <tr>\n",
       "      <th>16155</th>\n",
       "      <td>7pm correcta erukum mg bro</td>\n",
       "      <td>Hope_speech</td>\n",
       "      <td>5</td>\n",
       "    </tr>\n",
       "    <tr>\n",
       "      <th>16156</th>\n",
       "      <td>Intha karutha mudija varaikum Neengalum ellark...</td>\n",
       "      <td>Non_hope_speech</td>\n",
       "      <td>10</td>\n",
       "    </tr>\n",
       "    <tr>\n",
       "      <th>16157</th>\n",
       "      <td>And neenga adhiyavasiyam nu soldra apps like t...</td>\n",
       "      <td>Non_hope_speech</td>\n",
       "      <td>20</td>\n",
       "    </tr>\n",
       "    <tr>\n",
       "      <th>16158</th>\n",
       "      <td>Daii sekram mater ku vada</td>\n",
       "      <td>Hope_speech</td>\n",
       "      <td>5</td>\n",
       "    </tr>\n",
       "    <tr>\n",
       "      <th>16159</th>\n",
       "      <td>Bro put Redmi  8gaming</td>\n",
       "      <td>Hope_speech</td>\n",
       "      <td>5</td>\n",
       "    </tr>\n",
       "  </tbody>\n",
       "</table>\n",
       "<p>16160 rows × 3 columns</p>\n",
       "</div>"
      ],
      "text/plain": [
       "                                                sentence            label  \\\n",
       "0                                  Realme india product         not-Tamil   \n",
       "1      I also don't have tiktok hello and allnBut I'm...      Hope_speech   \n",
       "2      Thalaivare..neengale inum one plus mobile vach...  Non_hope_speech   \n",
       "3      Annee varanda thondai.. corona virus affect pa...      Hope_speech   \n",
       "4                                    5views but 18likes   Non_hope_speech   \n",
       "...                                                  ...              ...   \n",
       "16155                        7pm correcta erukum mg bro       Hope_speech   \n",
       "16156  Intha karutha mudija varaikum Neengalum ellark...  Non_hope_speech   \n",
       "16157  And neenga adhiyavasiyam nu soldra apps like t...  Non_hope_speech   \n",
       "16158                         Daii sekram mater ku vada       Hope_speech   \n",
       "16159                            Bro put Redmi  8gaming       Hope_speech   \n",
       "\n",
       "       token_count  \n",
       "0                3  \n",
       "1               11  \n",
       "2               11  \n",
       "3               20  \n",
       "4                3  \n",
       "...            ...  \n",
       "16155            5  \n",
       "16156           10  \n",
       "16157           20  \n",
       "16158            5  \n",
       "16159            5  \n",
       "\n",
       "[16160 rows x 3 columns]"
      ]
     },
     "execution_count": 209,
     "metadata": {},
     "output_type": "execute_result"
    }
   ],
   "source": [
    "hope_train"
   ]
  },
  {
   "cell_type": "code",
   "execution_count": 216,
   "metadata": {},
   "outputs": [],
   "source": [
    "hope_train.to_csv(f\"{BASE_DIR}/tamil_hope_full_train_transliterated.csv\", index=False)"
   ]
  },
  {
   "cell_type": "code",
   "execution_count": 211,
   "metadata": {},
   "outputs": [],
   "source": [
    "hope_dev['sentence'] = hope_dev['sentence'].apply(lambda x: transliterator.transliterate(x, \"en_US\"))"
   ]
  },
  {
   "cell_type": "code",
   "execution_count": 212,
   "metadata": {},
   "outputs": [
    {
     "data": {
      "text/html": [
       "<div>\n",
       "<style scoped>\n",
       "    .dataframe tbody tr th:only-of-type {\n",
       "        vertical-align: middle;\n",
       "    }\n",
       "\n",
       "    .dataframe tbody tr th {\n",
       "        vertical-align: top;\n",
       "    }\n",
       "\n",
       "    .dataframe thead th {\n",
       "        text-align: right;\n",
       "    }\n",
       "</style>\n",
       "<table border=\"1\" class=\"dataframe\">\n",
       "  <thead>\n",
       "    <tr style=\"text-align: right;\">\n",
       "      <th></th>\n",
       "      <th>sentence</th>\n",
       "      <th>label</th>\n",
       "      <th>token_count</th>\n",
       "    </tr>\n",
       "  </thead>\n",
       "  <tbody>\n",
       "    <tr>\n",
       "      <th>0</th>\n",
       "      <td>Mg bro eve  6o clock video post pannuga</td>\n",
       "      <td>Hope_speech</td>\n",
       "      <td>9</td>\n",
       "    </tr>\n",
       "    <tr>\n",
       "      <th>1</th>\n",
       "      <td>8.00pm bro plss</td>\n",
       "      <td>not-Tamil</td>\n",
       "      <td>4</td>\n",
       "    </tr>\n",
       "    <tr>\n",
       "      <th>2</th>\n",
       "      <td>Bro ivan kitta sonna  .Ivan change' pannidava ...</td>\n",
       "      <td>Hope_speech</td>\n",
       "      <td>10</td>\n",
       "    </tr>\n",
       "    <tr>\n",
       "      <th>3</th>\n",
       "      <td>@Varnajalam Mini Crafts adhum crrct thaan Akka  🤣</td>\n",
       "      <td>Non_hope_speech</td>\n",
       "      <td>8</td>\n",
       "    </tr>\n",
       "    <tr>\n",
       "      <th>4</th>\n",
       "      <td>ellaa kuzhanthaikalum nalla ennam</td>\n",
       "      <td>Hope_speech</td>\n",
       "      <td>4</td>\n",
       "    </tr>\n",
       "    <tr>\n",
       "      <th>...</th>\n",
       "      <td>...</td>\n",
       "      <td>...</td>\n",
       "      <td>...</td>\n",
       "    </tr>\n",
       "    <tr>\n",
       "      <th>2013</th>\n",
       "      <td>Share karo app use panlama</td>\n",
       "      <td>Non_hope_speech</td>\n",
       "      <td>5</td>\n",
       "    </tr>\n",
       "    <tr>\n",
       "      <th>2014</th>\n",
       "      <td>@R SWAGxOP kelattu kapothi maari nee pesathada...</td>\n",
       "      <td>Non_hope_speech</td>\n",
       "      <td>9</td>\n",
       "    </tr>\n",
       "    <tr>\n",
       "      <th>2015</th>\n",
       "      <td>Yow yaean yaa kelappi vidringa ipd</td>\n",
       "      <td>Non_hope_speech</td>\n",
       "      <td>6</td>\n",
       "    </tr>\n",
       "    <tr>\n",
       "      <th>2016</th>\n",
       "      <td>Hey bro. Ur doing amazing...</td>\n",
       "      <td>not-Tamil</td>\n",
       "      <td>7</td>\n",
       "    </tr>\n",
       "    <tr>\n",
       "      <th>2017</th>\n",
       "      <td>@Haram Bhai Allah yaaru saamy nee??</td>\n",
       "      <td>Non_hope_speech</td>\n",
       "      <td>8</td>\n",
       "    </tr>\n",
       "  </tbody>\n",
       "</table>\n",
       "<p>2018 rows × 3 columns</p>\n",
       "</div>"
      ],
      "text/plain": [
       "                                               sentence            label  \\\n",
       "0              Mg bro eve  6o clock video post pannuga       Hope_speech   \n",
       "1                                      8.00pm bro plss         not-Tamil   \n",
       "2     Bro ivan kitta sonna  .Ivan change' pannidava ...      Hope_speech   \n",
       "3     @Varnajalam Mini Crafts adhum crrct thaan Akka  🤣  Non_hope_speech   \n",
       "4                    ellaa kuzhanthaikalum nalla ennam       Hope_speech   \n",
       "...                                                 ...              ...   \n",
       "2013                        Share karo app use panlama   Non_hope_speech   \n",
       "2014  @R SWAGxOP kelattu kapothi maari nee pesathada...  Non_hope_speech   \n",
       "2015                Yow yaean yaa kelappi vidringa ipd   Non_hope_speech   \n",
       "2016                      Hey bro. Ur doing amazing...         not-Tamil   \n",
       "2017               @Haram Bhai Allah yaaru saamy nee??   Non_hope_speech   \n",
       "\n",
       "      token_count  \n",
       "0               9  \n",
       "1               4  \n",
       "2              10  \n",
       "3               8  \n",
       "4               4  \n",
       "...           ...  \n",
       "2013            5  \n",
       "2014            9  \n",
       "2015            6  \n",
       "2016            7  \n",
       "2017            8  \n",
       "\n",
       "[2018 rows x 3 columns]"
      ]
     },
     "execution_count": 212,
     "metadata": {},
     "output_type": "execute_result"
    }
   ],
   "source": [
    "hope_dev"
   ]
  },
  {
   "cell_type": "code",
   "execution_count": 218,
   "metadata": {},
   "outputs": [],
   "source": [
    "hope_dev.to_csv(f\"{BASE_DIR}/tamil_hope_full_dev_transliterated.csv\", index=False)"
   ]
  }
 ],
 "metadata": {
  "kernelspec": {
   "display_name": "temp_env",
   "language": "python",
   "name": "temp_env"
  },
  "language_info": {
   "codemirror_mode": {
    "name": "ipython",
    "version": 3
   },
   "file_extension": ".py",
   "mimetype": "text/x-python",
   "name": "python",
   "nbconvert_exporter": "python",
   "pygments_lexer": "ipython3",
   "version": "3.8.6"
  }
 },
 "nbformat": 4,
 "nbformat_minor": 4
}
