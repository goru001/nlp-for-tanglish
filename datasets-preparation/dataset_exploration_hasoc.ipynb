{
 "cells": [
  {
   "cell_type": "code",
   "execution_count": 1,
   "metadata": {},
   "outputs": [],
   "source": [
    "import pandas as pd\n",
    "import re\n",
    "from collections import Counter\n",
    "import matplotlib.pyplot as plt\n",
    "from statistics import mean, median, mode"
   ]
  },
  {
   "cell_type": "code",
   "execution_count": 2,
   "metadata": {},
   "outputs": [
    {
     "data": {
      "text/html": [
       "<div>\n",
       "<style scoped>\n",
       "    .dataframe tbody tr th:only-of-type {\n",
       "        vertical-align: middle;\n",
       "    }\n",
       "\n",
       "    .dataframe tbody tr th {\n",
       "        vertical-align: top;\n",
       "    }\n",
       "\n",
       "    .dataframe thead th {\n",
       "        text-align: right;\n",
       "    }\n",
       "</style>\n",
       "<table border=\"1\" class=\"dataframe\">\n",
       "  <thead>\n",
       "    <tr style=\"text-align: right;\">\n",
       "      <th></th>\n",
       "      <th>0</th>\n",
       "      <th>1</th>\n",
       "      <th>2</th>\n",
       "    </tr>\n",
       "  </thead>\n",
       "  <tbody>\n",
       "    <tr>\n",
       "      <th>0</th>\n",
       "      <td>TA_HL109</td>\n",
       "      <td>1st baby ku neat ah feed panunga plzz ipdi iru...</td>\n",
       "      <td>NOT</td>\n",
       "    </tr>\n",
       "    <tr>\n",
       "      <th>1</th>\n",
       "      <td>TA_HL982</td>\n",
       "      <td>video play agurathuku munnadi pall kudikuranu ...</td>\n",
       "      <td>OFF</td>\n",
       "    </tr>\n",
       "    <tr>\n",
       "      <th>2</th>\n",
       "      <td>TA_HL644</td>\n",
       "      <td>meera nee ellam our pombalaiya poorike</td>\n",
       "      <td>OFF</td>\n",
       "    </tr>\n",
       "    <tr>\n",
       "      <th>3</th>\n",
       "      <td>TA_TW3208</td>\n",
       "      <td>RT @USER : Ommala ipo neenga lam meesaiya mazh...</td>\n",
       "      <td>OFF</td>\n",
       "    </tr>\n",
       "    <tr>\n",
       "      <th>4</th>\n",
       "      <td>TA_TW910</td>\n",
       "      <td>@USER ungotha semaya doubles vanguva pola.. ne...</td>\n",
       "      <td>OFF</td>\n",
       "    </tr>\n",
       "  </tbody>\n",
       "</table>\n",
       "</div>"
      ],
      "text/plain": [
       "           0                                                  1    2\n",
       "0   TA_HL109  1st baby ku neat ah feed panunga plzz ipdi iru...  NOT\n",
       "1   TA_HL982  video play agurathuku munnadi pall kudikuranu ...  OFF\n",
       "2   TA_HL644             meera nee ellam our pombalaiya poorike  OFF\n",
       "3  TA_TW3208  RT @USER : Ommala ipo neenga lam meesaiya mazh...  OFF\n",
       "4   TA_TW910  @USER ungotha semaya doubles vanguva pola.. ne...  OFF"
      ]
     },
     "execution_count": 2,
     "metadata": {},
     "output_type": "execute_result"
    }
   ],
   "source": [
    "df_train = pd.read_excel(f'../../../code-mixed-enta/hasoc_task_2/Tamil-Codemixed_offensive_data_Training-Tweet-HL.xlsx', header=None)\n",
    "df_train.replace(to_replace='not', value='NOT', inplace=True)\n",
    "df_train.replace(to_replace='OFf', value='OFF', inplace=True)\n",
    "df_train = df_train.sample(frac=1).reset_index(drop=True)\n",
    "df_train.head()"
   ]
  },
  {
   "cell_type": "code",
   "execution_count": 3,
   "metadata": {},
   "outputs": [
    {
     "data": {
      "text/plain": [
       "(4000, 3)"
      ]
     },
     "execution_count": 3,
     "metadata": {},
     "output_type": "execute_result"
    }
   ],
   "source": [
    "df_train.shape"
   ]
  },
  {
   "cell_type": "code",
   "execution_count": 4,
   "metadata": {},
   "outputs": [
    {
     "data": {
      "text/html": [
       "<div>\n",
       "<style scoped>\n",
       "    .dataframe tbody tr th:only-of-type {\n",
       "        vertical-align: middle;\n",
       "    }\n",
       "\n",
       "    .dataframe tbody tr th {\n",
       "        vertical-align: top;\n",
       "    }\n",
       "\n",
       "    .dataframe thead th {\n",
       "        text-align: right;\n",
       "    }\n",
       "</style>\n",
       "<table border=\"1\" class=\"dataframe\">\n",
       "  <thead>\n",
       "    <tr style=\"text-align: right;\">\n",
       "      <th></th>\n",
       "      <th>0</th>\n",
       "      <th>1</th>\n",
       "    </tr>\n",
       "  </thead>\n",
       "  <tbody>\n",
       "    <tr>\n",
       "      <th>935</th>\n",
       "      <td>TA_TW15928</td>\n",
       "      <td>Woman with a bhindi picture on a logo promotes...</td>\n",
       "    </tr>\n",
       "    <tr>\n",
       "      <th>936</th>\n",
       "      <td>TA_TW10014</td>\n",
       "      <td>Worst ra Vara vara Namma Society kevalama poit...</td>\n",
       "    </tr>\n",
       "    <tr>\n",
       "      <th>937</th>\n",
       "      <td>TA_TW10134</td>\n",
       "      <td>Yeallarukum reply pandringa namma #TAG RakidaR...</td>\n",
       "    </tr>\n",
       "    <tr>\n",
       "      <th>938</th>\n",
       "      <td>TA_TW10418</td>\n",
       "      <td>Yeva yeva valkaiyelam flashlight adicha maari ...</td>\n",
       "    </tr>\n",
       "    <tr>\n",
       "      <th>939</th>\n",
       "      <td>TA_TW13798</td>\n",
       "      <td>Deiii udhay sunniya oomburathuku 200 pothumad...</td>\n",
       "    </tr>\n",
       "  </tbody>\n",
       "</table>\n",
       "</div>"
      ],
      "text/plain": [
       "              0                                                  1\n",
       "935  TA_TW15928  Woman with a bhindi picture on a logo promotes...\n",
       "936  TA_TW10014  Worst ra Vara vara Namma Society kevalama poit...\n",
       "937  TA_TW10134  Yeallarukum reply pandringa namma #TAG RakidaR...\n",
       "938  TA_TW10418  Yeva yeva valkaiyelam flashlight adicha maari ...\n",
       "939  TA_TW13798   Deiii udhay sunniya oomburathuku 200 pothumad..."
      ]
     },
     "execution_count": 4,
     "metadata": {},
     "output_type": "execute_result"
    }
   ],
   "source": [
    "df_test = pd.read_csv('../../../code-mixed-enta/hasoc_task_2/Tamil_hasoc_tanglish_test_without_labels.tsv', sep='\\t', header=None)\n",
    "df_test.dropna(inplace=True)\n",
    "df_test.tail()"
   ]
  },
  {
   "cell_type": "code",
   "execution_count": 5,
   "metadata": {},
   "outputs": [
    {
     "data": {
      "text/plain": [
       "(940, 2)"
      ]
     },
     "execution_count": 5,
     "metadata": {},
     "output_type": "execute_result"
    }
   ],
   "source": [
    "df_test.shape"
   ]
  },
  {
   "cell_type": "code",
   "execution_count": 6,
   "metadata": {},
   "outputs": [],
   "source": [
    "import unicodedata as ud\n",
    "\n",
    "latin_letters= {}\n",
    "\n",
    "def is_latin(uchr):\n",
    "    try: return latin_letters[uchr]\n",
    "    except KeyError:\n",
    "         return latin_letters.setdefault(uchr, 'LATIN' in ud.name(uchr))\n",
    "\n",
    "def only_roman_chars(unistr):\n",
    "    return all(is_latin(uchr)\n",
    "           for uchr in unistr\n",
    "           if uchr.isalpha()) # isalpha suggested by John Machin"
   ]
  },
  {
   "cell_type": "code",
   "execution_count": 9,
   "metadata": {
    "scrolled": true
   },
   "outputs": [
    {
     "name": "stdout",
     "output_type": "stream",
     "text": [
      "843 TA_HL598 losliya oru fake person and aabala porikiiiii ˆ ˆ ˆ ˆ ˆ ˆ ˆ ˆ OFF\n",
      "\n",
      "\n",
      "\n",
      "1092 TA_HL472 ippdi than iruku .vara onu illa waste da ithu. Žˆ Žˆ Žˆ Žˆthan irukum OFF\n",
      "\n",
      "\n",
      "\n",
      "1653 TA_HL153 Ada saniyane.... ’¦ ’¦ ’¦ pani padaram, puna mani, sarapampu and finally matu ravi ‚ ˆ ‘¿   ¡ ¤ ¤£ ¤£ ¤£ ¤£ ¤£ ¤£ ¤£ ¤£ ¤£ ¤£ ¤£ ¤£ µ ‡ ™Š OFF\n",
      "\n",
      "\n",
      "\n",
      "2094 TA_HL271 cheran is very honest... losliya poruki kavin porukiyoda ....vanitha yedhuku à®‰à®³à¯à®³ à®µà®¨à¯à®¤à®¾? OFF\n",
      "\n",
      "\n",
      "\n",
      "2536 TA_HL854 seruppu seruppu......kalla kumbidura unakku theriyathu magane ......po........moditu poriyaa....à®µà®¿à®•à¯à®•à¯ à®®à®£à¯à® à¯ˆà®¯à®¾.... OFF\n",
      "\n",
      "\n",
      "\n",
      "2899 TA_HL163 adhutha à®ªà®¾à®²à¯ , peter paul ku than. Vijay Kumar family , irukkuradhu thappey illa NOT\n",
      "\n",
      "\n",
      "\n",
      "3079 TA_HL125 à®•à¯à®´à®¨à¯à®¤à¯ˆ ga taste ah saptanum nu ninappanga nenga eappo pathalum paal satham, paruppu, neai, nu thantha avanga saptave pidikkathu nenga mathi mathi tharanum NOT\n",
      "\n",
      "\n",
      "\n",
      "3482 TA_HL1045 ethulam ponna chi ¤ª   OFF\n",
      "\n",
      "\n",
      "\n",
      "3711 TA_HL955 vanitha à®µà¯‡ à®ªà®°à¯à®•à®µà¯‡ irritate irukku. OFF\n",
      "\n",
      "\n",
      "\n",
      "3778 TA_HL449 intha mathiry manushanga irukkumbothu eppidynga corona nilanadukkam ellam varama irukkum sollunga makkale ¤¦ ¡ ª NOT\n",
      "\n",
      "\n",
      "\n",
      "0.9975\n"
     ]
    }
   ],
   "source": [
    "count = 0\n",
    "for index, row in df_train.iterrows():\n",
    "    if not only_roman_chars(row[1]):\n",
    "        print(index, row[0], row[1], row[2])\n",
    "        print('\\n\\n')\n",
    "        count += 1\n",
    "print(1 - count/len(df_train))"
   ]
  },
  {
   "cell_type": "code",
   "execution_count": null,
   "metadata": {},
   "outputs": [],
   "source": [
    "# à®®à®£à¯à® à¯ˆà®¯à®¾....\n",
    "# vanitha à®µà¯‡ à®ªà®°à¯à®•à®µà¯‡ irritate irukku.\n",
    "# ¤£ ¤£ ¤£ ¤£ ¤£ ¤£ µ ‡ ™Š\n",
    "# contains non-ascii characters"
   ]
  },
  {
   "cell_type": "code",
   "execution_count": 15,
   "metadata": {},
   "outputs": [
    {
     "name": "stdout",
     "output_type": "stream",
     "text": [
      "1.0\n"
     ]
    }
   ],
   "source": [
    "count = 0\n",
    "for index, row in df_test.iterrows():\n",
    "    if not only_roman_chars(row[1]):\n",
    "        print(index, row[0], row[1], row[2])\n",
    "        print('\\n\\n')\n",
    "        count += 1\n",
    "print(1 - count/len(df_test))"
   ]
  },
  {
   "cell_type": "code",
   "execution_count": 10,
   "metadata": {},
   "outputs": [
    {
     "data": {
      "image/png": "[encoded data removed]",
      "text/plain": [
       "<Figure size 360x360 with 1 Axes>"
      ]
     },
     "metadata": {
      "needs_background": "light"
     },
     "output_type": "display_data"
    }
   ],
   "source": [
    "# Class distribution in training set\n",
    "D = Counter(df_train[2])\n",
    "plt.rcParams[\"figure.figsize\"] = (5,5)\n",
    "plt.bar(range(len(D)), list(D.values()), align='center')\n",
    "plt.xticks(range(len(D)), list(D.keys()))\n",
    "plt.show()"
   ]
  },
  {
   "cell_type": "code",
   "execution_count": 12,
   "metadata": {},
   "outputs": [
    {
     "name": "stdout",
     "output_type": "stream",
     "text": [
      "Min no. of sentences:  1980\n",
      "Max no. of sentences:  2020\n",
      "Avg no. of sentences:  2000\n",
      "Median of sentences:  2000.0\n"
     ]
    }
   ],
   "source": [
    "# Min, Max, Avg no of sentences per class in Training set\n",
    "print('Min no. of sentences: ', min(D.values()))\n",
    "print('Max no. of sentences: ', max(D.values()))\n",
    "print('Avg no. of sentences: ', mean(D.values()))\n",
    "print('Median of sentences: ', median(D.values()))"
   ]
  },
  {
   "cell_type": "code",
   "execution_count": 13,
   "metadata": {},
   "outputs": [],
   "source": [
    "def tokenize(s: str):\n",
    "    return s.split()"
   ]
  },
  {
   "cell_type": "code",
   "execution_count": 16,
   "metadata": {},
   "outputs": [
    {
     "name": "stdout",
     "output_type": "stream",
     "text": [
      "Min no. of tokens:  1\n",
      "Max no. of tokens:  66\n",
      "Avg no. of tokens:  18.3305\n",
      "Median of no. of tokens:  16.0\n"
     ]
    }
   ],
   "source": [
    "# variation in length of sentences in train set\n",
    "len_of_tokens = []\n",
    "for index, row in df_train.iterrows():\n",
    "    tokens = tokenize((row[1]).lower())\n",
    "    len_of_tokens.append(len(tokens))\n",
    "print('Min no. of tokens: ', min(len_of_tokens))\n",
    "print('Max no. of tokens: ', max(len_of_tokens))\n",
    "print('Avg no. of tokens: ', mean(len_of_tokens))\n",
    "print('Median of no. of tokens: ', median(len_of_tokens))"
   ]
  },
  {
   "cell_type": "code",
   "execution_count": 17,
   "metadata": {},
   "outputs": [
    {
     "name": "stdout",
     "output_type": "stream",
     "text": [
      "Min no. of tokens:  1\n",
      "Max no. of tokens:  55\n",
      "Avg no. of tokens:  17.31382978723404\n",
      "Median of no. of tokens:  15.0\n"
     ]
    }
   ],
   "source": [
    "# variation in length of sentences in test set\n",
    "len_of_tokens = []\n",
    "for index, row in df_test.iterrows():\n",
    "    tokens = tokenize((row[1]).lower())\n",
    "    len_of_tokens.append(len(tokens))\n",
    "print('Min no. of tokens: ', min(len_of_tokens))\n",
    "print('Max no. of tokens: ', max(len_of_tokens))\n",
    "print('Avg no. of tokens: ', mean(len_of_tokens))\n",
    "print('Median of no. of tokens: ', median(len_of_tokens))"
   ]
  },
  {
   "cell_type": "code",
   "execution_count": null,
   "metadata": {},
   "outputs": [],
   "source": []
  }
 ],
 "metadata": {
  "kernelspec": {
   "display_name": "Python 3",
   "language": "python",
   "name": "python3"
  },
  "language_info": {
   "codemirror_mode": {
    "name": "ipython",
    "version": 3
   },
   "file_extension": ".py",
   "mimetype": "text/x-python",
   "name": "python",
   "nbconvert_exporter": "python",
   "pygments_lexer": "ipython3",
   "version": "3.7.3"
  }
 },
 "nbformat": 4,
 "nbformat_minor": 2
}
